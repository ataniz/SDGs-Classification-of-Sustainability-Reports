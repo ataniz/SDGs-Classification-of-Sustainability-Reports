{
 "cells": [
  {
   "cell_type": "code",
   "execution_count": null,
   "metadata": {},
   "outputs": [],
   "source": [
    "import pandas as pd\n",
    "import nltk\n",
    "from nltk.corpus import wordnet, stopwords\n",
    "nltk.download('stopwords')\n",
    "nltk.download('wordnet')\n",
    "nltk.download('averaged_perceptron_tagger')\n",
    "import re\n",
    "import matplotlib.pyplot as plt\n",
    "import numpy as np\n",
    "from sklearn import feature_extraction\n",
    "from sklearn.feature_extraction.text import CountVectorizer\n",
    "from tqdm import tqdm\n",
    "tqdm.pandas()"
   ]
  },
  {
   "cell_type": "code",
   "execution_count": null,
   "metadata": {},
   "outputs": [],
   "source": [
    "stopword_list = stopwords.words(\"english\")\n",
    "\n",
    "# Map POS tags to WordNet tags\n",
    "def get_wordnet_pos(pos_tag):\n",
    "    tag = pos_tag[0].upper()\n",
    "    tag_dict = {\"J\": wordnet.ADJ,\n",
    "                \"N\": wordnet.NOUN,\n",
    "                \"V\": wordnet.VERB,\n",
    "                \"R\": wordnet.ADV}\n",
    "    return tag_dict.get(tag, wordnet.NOUN)\n",
    "\n",
    "def preprocess_text(text, stem=False, lemmatize=True, stop_words=stopword_list):\n",
    "    # Convert to lowercase and remove punctuations and characters, then strip\n",
    "    text = re.sub(r'[^\\w\\s]', '', str(text).lower().strip())\n",
    "    \n",
    "    # Tokenize (convert from string to list)\n",
    "    words = text.split()    \n",
    "    \n",
    "    # Remove stopwords\n",
    "    if stop_words:\n",
    "        words = [word for word in words if word not in stop_words]\n",
    "    \n",
    "    # Lemmatization (convert the word into root word)\n",
    "    if lemmatize:\n",
    "        lemmatizer = nltk.stem.WordNetLemmatizer()\n",
    "        pos_tags = nltk.pos_tag(words)\n",
    "        words = [lemmatizer.lemmatize(w, get_wordnet_pos(t)) for w, t in pos_tags]\n",
    "\n",
    "    # Stemming (remove -ing, -ly, ...)\n",
    "    if stem:\n",
    "        stemmer = nltk.stem.PorterStemmer()\n",
    "        words = [stemmer.stem(word) for word in words]\n",
    "\n",
    "    # Convert back to string from list\n",
    "    text = \" \".join(words)\n",
    "    \n",
    "    return text\n"
   ]
  },
  {
   "cell_type": "code",
   "execution_count": null,
   "metadata": {},
   "outputs": [],
   "source": [
    "df = pd.read_csv(\"data/data_complete.csv\")\n",
    "df['text_clean'] =  df['text'].progress_apply(lambda x: preprocess_text(x))"
   ]
  },
  {
   "cell_type": "code",
   "execution_count": null,
   "metadata": {},
   "outputs": [],
   "source": [
    "#Currently no lemmatization or stemming\n",
    "X = train['text_clean']\n",
    "y = train['sdg']\n",
    "# X_test = \n",
    "# y_test = "
   ]
  },
  {
   "cell_type": "code",
   "execution_count": null,
   "metadata": {},
   "outputs": [],
   "source": [
    "from sklearn.feature_extraction.text import CountVectorizer\n",
    "vectorizer = CountVectorizer(stop_words='english')\n",
    "# vectorizer = CountVectorizer(analyzer='word', ngram_range=(2, 2))\n",
    "X_vec = vectorizer.fit_transform(X)\n",
    "X_vec = np.asarray(X_vec.todense()) # convert sparse matrix into dense matrix\n",
    "# X_test_vec = vectorizer.fit_transform(X_test)\n",
    "# X_test_vec = np.asarray(X_test_vec.todense()) # convert sparse matrix into dense matrix"
   ]
  },
  {
   "cell_type": "code",
   "execution_count": null,
   "metadata": {},
   "outputs": [],
   "source": [
    "# Apply TF-IDF\n",
    "from sklearn.feature_extraction.text import TfidfTransformer\n",
    "tfidf = TfidfTransformer() #by default applies \"l2\" normalisation\n",
    "X_tfidf = tfidf.fit_transform(X_vec)\n",
    "X_tfidf = np.asarray(X_tfidf.todense())\n",
    "\n",
    "# X_test_tfidf = tfidf.fit_transform(X_test_vec)\n",
    "# X_test_tfidf = np.asarray(X_test_tfidf.todense())"
   ]
  },
  {
   "cell_type": "code",
   "execution_count": null,
   "metadata": {},
   "outputs": [],
   "source": [
    "# split datasets\n",
    "from sklearn.model_selection import train_test_split\n",
    "X_train, X_test, y_train, y_test = train_test_split(X_tfidf, y, test_size = 0.1, random_state = 0)\n",
    "# X_train = X_train_tfidf\n",
    "# X_test = X_test_tfidf"
   ]
  },
  {
   "cell_type": "code",
   "execution_count": null,
   "metadata": {},
   "outputs": [],
   "source": [
    "# training NB Classifier\n",
    "from sklearn.naive_bayes import MultinomialNB\n",
    "clf = MultinomialNB()\n",
    "clf.fit(X_train, y_train)\n",
    "# Predicting the test set results\n",
    "y_pred = clf.predict(X_test)\n",
    "# Confusion Matrix\n",
    "from sklearn.metrics import confusion_matrix, f1_score\n",
    "\n"
   ]
  },
  {
   "cell_type": "code",
   "execution_count": null,
   "metadata": {},
   "outputs": [],
   "source": [
    "cm = confusion_matrix(y_test, y_pred)\n",
    "print(\"Accuracy: \", round(100*cm.diagonal().sum()/cm.sum(), 3), '%' )"
   ]
  },
  {
   "cell_type": "code",
   "execution_count": null,
   "metadata": {},
   "outputs": [],
   "source": [
    "f1_score(y_test, y_pred, average=\"weighted\")"
   ]
  },
  {
   "cell_type": "code",
   "execution_count": null,
   "metadata": {},
   "outputs": [],
   "source": [
    "# Train SVM Classifier\n",
    "from sklearn.svm import SVC\n",
    "classifier = SVC(kernel='linear')\n",
    "classifier.fit(X_train, y_train)\n",
    "y_pred2 = classifier.predict(X_test)\n",
    "# Making the Confusion Matrix\n",
    "cm = confusion_matrix(y_test, y_pred2)\n",
    "print(\"Accuracy: \", round(100*cm.diagonal().sum()/cm.sum(), 3), '%' )\n",
    "cm"
   ]
  },
  {
   "cell_type": "code",
   "execution_count": null,
   "metadata": {},
   "outputs": [],
   "source": [
    "f1_score(y_test, y_pred2, average=\"weighted\")"
   ]
  }
 ],
 "metadata": {
  "kernelspec": {
   "display_name": "Python 3",
   "language": "python",
   "name": "python3"
  },
  "language_info": {
   "name": "python",
   "version": "3.11.0"
  },
  "orig_nbformat": 4,
  "vscode": {
   "interpreter": {
    "hash": "aee8b7b246df8f9039afb4144a1f6fd8d2ca17a180786b69acc140d282b71a49"
   }
  }
 },
 "nbformat": 4,
 "nbformat_minor": 2
}
